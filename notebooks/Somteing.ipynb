{
 "cells": [
  {
   "cell_type": "code",
   "execution_count": 1,
   "metadata": {},
   "outputs": [],
   "source": [
    "import pandas as pd\n",
    "from imblearn.over_sampling import SMOTE"
   ]
  },
  {
   "cell_type": "markdown",
   "metadata": {},
   "source": [
    "## KMedoids Smoteing"
   ]
  },
  {
   "cell_type": "code",
   "execution_count": 6,
   "metadata": {},
   "outputs": [],
   "source": [
    "KMedoids_data = pd.read_csv(\"../data/Kmedoid_data.csv\")"
   ]
  },
  {
   "cell_type": "code",
   "execution_count": 7,
   "metadata": {},
   "outputs": [],
   "source": [
    "from imblearn.over_sampling import SMOTE"
   ]
  },
  {
   "cell_type": "code",
   "execution_count": 8,
   "metadata": {},
   "outputs": [
    {
     "name": "stdout",
     "output_type": "stream",
     "text": [
      "Original class distribution:\n",
      "Category\n",
      "16    174900\n",
      "21    126182\n",
      "20     92304\n",
      "1      76876\n",
      "7      53971\n",
      "36     53781\n",
      "35     44725\n",
      "37     42214\n",
      "4      36755\n",
      "32     31414\n",
      "19     25989\n",
      "25     23000\n",
      "13     16679\n",
      "12     10609\n",
      "27      9985\n",
      "38      8555\n",
      "23      7484\n",
      "34      7326\n",
      "30      4540\n",
      "28      4388\n",
      "5       4320\n",
      "8       4280\n",
      "24      3138\n",
      "15      2341\n",
      "6       2268\n",
      "26      1946\n",
      "17      1903\n",
      "0       1513\n",
      "18      1225\n",
      "9       1166\n",
      "31       508\n",
      "11       491\n",
      "2        406\n",
      "3        289\n",
      "10       256\n",
      "29       148\n",
      "14       146\n",
      "22        22\n",
      "33         6\n",
      "Name: count, dtype: int64\n",
      "Original shape: (878049, 11)\n",
      "\n",
      "Balanced class distribution after SMOTE:\n",
      "Category\n",
      "37    174900\n",
      "9     174900\n",
      "28    174900\n",
      "23    174900\n",
      "5     174900\n",
      "0     174900\n",
      "11    174900\n",
      "17    174900\n",
      "3     174900\n",
      "31    174900\n",
      "26    174900\n",
      "18    174900\n",
      "29    174900\n",
      "10    174900\n",
      "14    174900\n",
      "2     174900\n",
      "33    174900\n",
      "24    174900\n",
      "6     174900\n",
      "15    174900\n",
      "21    174900\n",
      "4     174900\n",
      "16    174900\n",
      "36    174900\n",
      "35    174900\n",
      "20    174900\n",
      "25    174900\n",
      "1     174900\n",
      "38    174900\n",
      "32    174900\n",
      "13    174900\n",
      "8     174900\n",
      "12    174900\n",
      "7     174900\n",
      "30    174900\n",
      "27    174900\n",
      "34    174900\n",
      "19    174900\n",
      "22    174900\n",
      "Name: count, dtype: int64\n",
      "New shape: (6821100, 11)\n"
     ]
    }
   ],
   "source": [
    "def apply_smote(df, target_column='Category', random_state=42):\n",
    "\n",
    "    # Separate features and target\n",
    "    X = df.drop(columns=[target_column])\n",
    "    y = df[target_column]\n",
    "    \n",
    "    # Display original class distribution\n",
    "    print(\"Original class distribution:\")\n",
    "    print(y.value_counts())\n",
    "    print(f\"Original shape: {X.shape}\")\n",
    "    \n",
    "    # Apply SMOTE\n",
    "    smote = SMOTE(random_state=random_state)\n",
    "    X_resampled, y_resampled = smote.fit_resample(X, y)\n",
    "    \n",
    "    # Convert back to DataFrame/Series to maintain column names\n",
    "    X_resampled = pd.DataFrame(X_resampled, columns=X.columns)\n",
    "    y_resampled = pd.Series(y_resampled, name=target_column)\n",
    "    \n",
    "    # Display new class distribution\n",
    "    print(\"\\nBalanced class distribution after SMOTE:\")\n",
    "    print(y_resampled.value_counts())\n",
    "    print(f\"New shape: {X_resampled.shape}\")\n",
    "    \n",
    "    return X_resampled, y_resampled\n",
    "X_balanced, y_balanced = apply_smote(KMedoids_data, target_column='Category')\n",
    "\n",
    "# If you want to get a complete balanced DataFrame\n",
    "df = pd.concat([X_balanced, y_balanced], axis=1)"
   ]
  },
  {
   "cell_type": "code",
   "execution_count": 28,
   "metadata": {},
   "outputs": [],
   "source": [
    "KMedoids_data=df"
   ]
  },
  {
   "cell_type": "code",
   "execution_count": 29,
   "metadata": {},
   "outputs": [
    {
     "data": {
      "text/plain": [
       "(6821100, 12)"
      ]
     },
     "execution_count": 29,
     "metadata": {},
     "output_type": "execute_result"
    }
   ],
   "source": [
    "KMedoids_data.shape"
   ]
  },
  {
   "cell_type": "code",
   "execution_count": 30,
   "metadata": {},
   "outputs": [],
   "source": [
    "KMedoids_data=pd.DataFrame(KMedoids_data)"
   ]
  },
  {
   "cell_type": "code",
   "execution_count": 31,
   "metadata": {},
   "outputs": [
    {
     "data": {
      "text/plain": [
       "Index(['DayOfWeek', 'PdDistrict', 'X', 'Y', 'Day', 'Month', 'Year', 'Hour',\n",
       "       'Minute', 'Block', 'Cluster', 'Category'],\n",
       "      dtype='object')"
      ]
     },
     "execution_count": 31,
     "metadata": {},
     "output_type": "execute_result"
    }
   ],
   "source": [
    "KMedoids_data.columns"
   ]
  },
  {
   "cell_type": "code",
   "execution_count": 33,
   "metadata": {},
   "outputs": [],
   "source": [
    "KMedoids_data.to_csv(\"../data/Kmedoid_smote_data.csv\", index=False)"
   ]
  },
  {
   "cell_type": "markdown",
   "metadata": {},
   "source": [
    "## Fuzzy Smoteing"
   ]
  },
  {
   "cell_type": "code",
   "execution_count": 12,
   "metadata": {},
   "outputs": [],
   "source": [
    "Fuzzy_data = pd.read_csv(\"../data/Fuzzy_data.csv\")"
   ]
  },
  {
   "cell_type": "code",
   "execution_count": 14,
   "metadata": {},
   "outputs": [
    {
     "name": "stdout",
     "output_type": "stream",
     "text": [
      "Original class distribution:\n",
      "Category\n",
      "16    174900\n",
      "21    126182\n",
      "20     92304\n",
      "1      76876\n",
      "7      53971\n",
      "36     53781\n",
      "35     44725\n",
      "37     42214\n",
      "4      36755\n",
      "32     31414\n",
      "19     25989\n",
      "25     23000\n",
      "13     16679\n",
      "12     10609\n",
      "27      9985\n",
      "38      8555\n",
      "23      7484\n",
      "34      7326\n",
      "30      4540\n",
      "28      4388\n",
      "5       4320\n",
      "8       4280\n",
      "24      3138\n",
      "15      2341\n",
      "6       2268\n",
      "26      1946\n",
      "17      1903\n",
      "0       1513\n",
      "18      1225\n",
      "9       1166\n",
      "31       508\n",
      "11       491\n",
      "2        406\n",
      "3        289\n",
      "10       256\n",
      "29       148\n",
      "14       146\n",
      "22        22\n",
      "33         6\n",
      "Name: count, dtype: int64\n",
      "Original shape: (878049, 11)\n",
      "\n",
      "Balanced class distribution after SMOTE:\n",
      "Category\n",
      "37    174900\n",
      "9     174900\n",
      "28    174900\n",
      "23    174900\n",
      "5     174900\n",
      "0     174900\n",
      "11    174900\n",
      "17    174900\n",
      "3     174900\n",
      "31    174900\n",
      "26    174900\n",
      "18    174900\n",
      "29    174900\n",
      "10    174900\n",
      "14    174900\n",
      "2     174900\n",
      "33    174900\n",
      "24    174900\n",
      "6     174900\n",
      "15    174900\n",
      "21    174900\n",
      "4     174900\n",
      "16    174900\n",
      "36    174900\n",
      "35    174900\n",
      "20    174900\n",
      "25    174900\n",
      "1     174900\n",
      "38    174900\n",
      "32    174900\n",
      "13    174900\n",
      "8     174900\n",
      "12    174900\n",
      "7     174900\n",
      "30    174900\n",
      "27    174900\n",
      "34    174900\n",
      "19    174900\n",
      "22    174900\n",
      "Name: count, dtype: int64\n",
      "New shape: (6821100, 11)\n"
     ]
    }
   ],
   "source": [
    "def apply_smote(df, target_column='Category', random_state=42):\n",
    "\n",
    "    # Separate features and target\n",
    "    X = df.drop(columns=[target_column])\n",
    "    y = df[target_column]\n",
    "    \n",
    "    # Display original class distribution\n",
    "    print(\"Original class distribution:\")\n",
    "    print(y.value_counts())\n",
    "    print(f\"Original shape: {X.shape}\")\n",
    "    \n",
    "    # Apply SMOTE\n",
    "    smote = SMOTE(random_state=random_state)\n",
    "    X_resampled, y_resampled = smote.fit_resample(X, y)\n",
    "    \n",
    "    # Convert back to DataFrame/Series to maintain column names\n",
    "    X_resampled = pd.DataFrame(X_resampled, columns=X.columns)\n",
    "    y_resampled = pd.Series(y_resampled, name=target_column)\n",
    "    \n",
    "    # Display new class distribution\n",
    "    print(\"\\nBalanced class distribution after SMOTE:\")\n",
    "    print(y_resampled.value_counts())\n",
    "    print(f\"New shape: {X_resampled.shape}\")\n",
    "    \n",
    "    return X_resampled, y_resampled\n",
    "X_balanced, y_balanced = apply_smote(Fuzzy_data, target_column='Category')\n",
    "\n",
    "# If you want to get a complete balanced DataFrame\n",
    "Fuzzy_data = pd.concat([X_balanced, y_balanced], axis=1)"
   ]
  },
  {
   "cell_type": "code",
   "execution_count": 15,
   "metadata": {},
   "outputs": [
    {
     "data": {
      "text/plain": [
       "(6821100, 12)"
      ]
     },
     "execution_count": 15,
     "metadata": {},
     "output_type": "execute_result"
    }
   ],
   "source": [
    "Fuzzy_data.shape"
   ]
  },
  {
   "cell_type": "code",
   "execution_count": 21,
   "metadata": {},
   "outputs": [],
   "source": [
    "Fuzzy_data=pd.DataFrame(Fuzzy_data)"
   ]
  },
  {
   "cell_type": "code",
   "execution_count": 32,
   "metadata": {},
   "outputs": [
    {
     "data": {
      "text/plain": [
       "Index(['DayOfWeek', 'PdDistrict', 'X', 'Y', 'Day', 'Month', 'Year', 'Hour',\n",
       "       'Minute', 'Block', 'fuzzy_cluster', 'Category'],\n",
       "      dtype='object')"
      ]
     },
     "execution_count": 32,
     "metadata": {},
     "output_type": "execute_result"
    }
   ],
   "source": [
    "Fuzzy_data.columns"
   ]
  },
  {
   "cell_type": "code",
   "execution_count": 23,
   "metadata": {},
   "outputs": [],
   "source": [
    "Fuzzy_data.to_csv(\"../data/Fuzzy_smote_data.csv\", index=False)"
   ]
  }
 ],
 "metadata": {
  "kernelspec": {
   "display_name": "base",
   "language": "python",
   "name": "python3"
  },
  "language_info": {
   "codemirror_mode": {
    "name": "ipython",
    "version": 3
   },
   "file_extension": ".py",
   "mimetype": "text/x-python",
   "name": "python",
   "nbconvert_exporter": "python",
   "pygments_lexer": "ipython3",
   "version": "3.12.3"
  }
 },
 "nbformat": 4,
 "nbformat_minor": 2
}
