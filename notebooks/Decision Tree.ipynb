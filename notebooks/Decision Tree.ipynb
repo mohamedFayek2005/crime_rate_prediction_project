{
 "cells": [
  {
   "cell_type": "markdown",
   "metadata": {},
   "source": [
    "## Kmidoids Withwout SMOTE"
   ]
  },
  {
   "cell_type": "markdown",
   "metadata": {},
   "source": [
    "#### import Data"
   ]
  },
  {
   "cell_type": "code",
   "execution_count": 2,
   "metadata": {},
   "outputs": [],
   "source": [
    "import pandas as pd\n",
    "from sklearn.model_selection import train_test_split\n",
    "from sklearn.ensemble import RandomForestClassifier\n",
    "from sklearn.metrics import classification_report, accuracy_score"
   ]
  },
  {
   "cell_type": "code",
   "execution_count": 18,
   "metadata": {},
   "outputs": [],
   "source": [
    "data = pd.read_csv(\"../data/Kmedoid_data.csv\")"
   ]
  },
  {
   "cell_type": "code",
   "execution_count": 19,
   "metadata": {},
   "outputs": [
    {
     "data": {
      "text/plain": [
       "Index(['DayOfWeek', 'PdDistrict', 'X', 'Y', 'Day', 'Month', 'Year', 'Hour',\n",
       "       'Minute', 'Block', 'Cluster', 'Category'],\n",
       "      dtype='object')"
      ]
     },
     "execution_count": 19,
     "metadata": {},
     "output_type": "execute_result"
    }
   ],
   "source": [
    "data.columns"
   ]
  },
  {
   "cell_type": "code",
   "execution_count": 20,
   "metadata": {},
   "outputs": [
    {
     "data": {
      "text/plain": [
       "(878049, 12)"
      ]
     },
     "execution_count": 20,
     "metadata": {},
     "output_type": "execute_result"
    }
   ],
   "source": [
    "data.shape"
   ]
  },
  {
   "cell_type": "code",
   "execution_count": 21,
   "metadata": {},
   "outputs": [],
   "source": [
    "df_sampled = data.sample(50000, random_state=42)\n",
    "\n",
    "# Separate features and target\n",
    "X = df_sampled.drop(columns=['Category'])\n",
    "y = df_sampled['Category']\n",
    "# Train/test split\n",
    "X_train, X_test, y_train, y_test = train_test_split(\n",
    "    X, y, test_size=0.05, random_state=42, stratify=y)"
   ]
  },
  {
   "cell_type": "code",
   "execution_count": 22,
   "metadata": {},
   "outputs": [
    {
     "data": {
      "text/plain": [
       "37"
      ]
     },
     "execution_count": 22,
     "metadata": {},
     "output_type": "execute_result"
    }
   ],
   "source": [
    "len(y_train.value_counts())"
   ]
  },
  {
   "cell_type": "code",
   "execution_count": 6,
   "metadata": {},
   "outputs": [
    {
     "name": "stdout",
     "output_type": "stream",
     "text": [
      "Accuracy: 0.2688\n",
      "\n",
      "Classification Report:\n",
      "               precision    recall  f1-score   support\n",
      "\n",
      "           0       0.00      0.00      0.00         5\n",
      "           1       0.16      0.16      0.16       219\n",
      "           2       0.00      0.00      0.00         1\n",
      "           3       0.00      0.00      0.00         1\n",
      "           4       0.17      0.10      0.13       106\n",
      "           5       0.50      0.09      0.15        11\n",
      "           6       0.00      0.00      0.00         6\n",
      "           7       0.35      0.41      0.37       155\n",
      "           8       0.00      0.00      0.00        12\n",
      "           9       0.00      0.00      0.00         2\n",
      "          10       0.00      0.00      0.00         1\n",
      "          11       0.00      0.00      0.00         1\n",
      "          12       0.00      0.00      0.00        30\n",
      "          13       0.06      0.02      0.03        47\n",
      "          14       0.00      0.00      0.00         1\n",
      "          15       0.00      0.00      0.00         7\n",
      "          16       0.32      0.64      0.43       496\n",
      "          17       0.00      0.00      0.00         6\n",
      "          18       0.00      0.00      0.00         4\n",
      "          19       0.29      0.16      0.21        73\n",
      "          20       0.20      0.17      0.19       264\n",
      "          21       0.28      0.37      0.32       355\n",
      "          23       0.69      0.50      0.58        22\n",
      "          24       0.00      0.00      0.00         9\n",
      "          25       0.05      0.02      0.02        65\n",
      "          26       0.00      0.00      0.00         6\n",
      "          27       0.00      0.00      0.00        30\n",
      "          28       0.00      0.00      0.00        13\n",
      "          30       0.00      0.00      0.00        14\n",
      "          31       0.00      0.00      0.00         1\n",
      "          32       0.12      0.03      0.05        90\n",
      "          34       0.50      0.05      0.08        22\n",
      "          35       0.07      0.03      0.04       129\n",
      "          36       0.28      0.21      0.24       151\n",
      "          37       0.11      0.04      0.06       120\n",
      "          38       0.00      0.00      0.00        25\n",
      "\n",
      "    accuracy                           0.27      2500\n",
      "   macro avg       0.12      0.08      0.09      2500\n",
      "weighted avg       0.22      0.27      0.23      2500\n",
      "\n"
     ]
    },
    {
     "name": "stderr",
     "output_type": "stream",
     "text": [
      "f:\\Anaconda\\Anaconda After SetUp\\Lib\\site-packages\\sklearn\\metrics\\_classification.py:1509: UndefinedMetricWarning: Precision is ill-defined and being set to 0.0 in labels with no predicted samples. Use `zero_division` parameter to control this behavior.\n",
      "  _warn_prf(average, modifier, f\"{metric.capitalize()} is\", len(result))\n",
      "f:\\Anaconda\\Anaconda After SetUp\\Lib\\site-packages\\sklearn\\metrics\\_classification.py:1509: UndefinedMetricWarning: Precision is ill-defined and being set to 0.0 in labels with no predicted samples. Use `zero_division` parameter to control this behavior.\n",
      "  _warn_prf(average, modifier, f\"{metric.capitalize()} is\", len(result))\n",
      "f:\\Anaconda\\Anaconda After SetUp\\Lib\\site-packages\\sklearn\\metrics\\_classification.py:1509: UndefinedMetricWarning: Precision is ill-defined and being set to 0.0 in labels with no predicted samples. Use `zero_division` parameter to control this behavior.\n",
      "  _warn_prf(average, modifier, f\"{metric.capitalize()} is\", len(result))\n"
     ]
    }
   ],
   "source": [
    "model = RandomForestClassifier(random_state=42)\n",
    "model.fit(X_train, y_train)\n",
    "\n",
    "# Predict\n",
    "y_pred = model.predict(X_test)\n",
    "\n",
    "# Evaluate\n",
    "print(\"Accuracy:\", accuracy_score(y_test, y_pred))\n",
    "print(\"\\nClassification Report:\\n\", classification_report(y_test, y_pred))"
   ]
  },
  {
   "cell_type": "markdown",
   "metadata": {},
   "source": [
    "#### Accuracy: 0.2683"
   ]
  },
  {
   "cell_type": "markdown",
   "metadata": {},
   "source": [
    "## Kmidoids With SMOTE"
   ]
  },
  {
   "cell_type": "code",
   "execution_count": 35,
   "metadata": {},
   "outputs": [],
   "source": [
    "data = pd.read_csv(\"../data/Kmedoid_smote_data.csv\")"
   ]
  },
  {
   "cell_type": "code",
   "execution_count": 24,
   "metadata": {},
   "outputs": [
    {
     "data": {
      "text/plain": [
       "Index(['DayOfWeek', 'PdDistrict', 'X', 'Y', 'Day', 'Month', 'Year', 'Hour',\n",
       "       'Minute', 'Block', 'Cluster', 'Category'],\n",
       "      dtype='object')"
      ]
     },
     "execution_count": 24,
     "metadata": {},
     "output_type": "execute_result"
    }
   ],
   "source": [
    "data.columns"
   ]
  },
  {
   "cell_type": "code",
   "execution_count": 25,
   "metadata": {},
   "outputs": [
    {
     "data": {
      "text/plain": [
       "(6821100, 12)"
      ]
     },
     "execution_count": 25,
     "metadata": {},
     "output_type": "execute_result"
    }
   ],
   "source": [
    "data.shape"
   ]
  },
  {
   "cell_type": "code",
   "execution_count": 26,
   "metadata": {},
   "outputs": [],
   "source": [
    "df_sampled = data.sample(800000, random_state=42)\n",
    "\n",
    "# Separate features and target\n",
    "X = df_sampled.drop(columns=['Category'])\n",
    "y = df_sampled['Category']\n",
    "# Train/test split\n",
    "X_train, X_test, y_train, y_test = train_test_split(\n",
    "    X, y, test_size=0.05, random_state=42, stratify=y)"
   ]
  },
  {
   "cell_type": "code",
   "execution_count": 27,
   "metadata": {},
   "outputs": [
    {
     "data": {
      "text/plain": [
       "39"
      ]
     },
     "execution_count": 27,
     "metadata": {},
     "output_type": "execute_result"
    }
   ],
   "source": [
    "len(y_train.value_counts())"
   ]
  },
  {
   "cell_type": "code",
   "execution_count": 28,
   "metadata": {},
   "outputs": [
    {
     "name": "stdout",
     "output_type": "stream",
     "text": [
      "Accuracy: 0.416\n",
      "\n",
      "Classification Report:\n",
      "               precision    recall  f1-score   support\n",
      "\n",
      "           0       0.37      0.35      0.36        62\n",
      "           1       0.07      0.05      0.06        63\n",
      "           2       0.49      0.82      0.61        62\n",
      "           3       0.57      0.81      0.67        63\n",
      "           4       0.18      0.16      0.17        63\n",
      "           5       0.39      0.35      0.37        65\n",
      "           6       0.34      0.53      0.42        64\n",
      "           7       0.22      0.27      0.24        62\n",
      "           8       0.32      0.35      0.34        65\n",
      "           9       0.52      0.61      0.56        67\n",
      "          10       0.61      0.76      0.68        63\n",
      "          11       0.64      0.78      0.70        63\n",
      "          12       0.24      0.19      0.21        63\n",
      "          13       0.35      0.26      0.30        65\n",
      "          14       0.66      0.92      0.77        66\n",
      "          15       0.29      0.28      0.28        65\n",
      "          16       0.22      0.18      0.20        68\n",
      "          17       0.38      0.45      0.41        64\n",
      "          18       0.68      0.65      0.67        63\n",
      "          19       0.33      0.29      0.31        66\n",
      "          20       0.11      0.06      0.08        62\n",
      "          21       0.12      0.10      0.11        63\n",
      "          22       0.88      1.00      0.94        67\n",
      "          23       0.57      0.78      0.66        65\n",
      "          24       0.28      0.40      0.33        63\n",
      "          25       0.26      0.18      0.21        62\n",
      "          26       0.46      0.66      0.54        62\n",
      "          27       0.16      0.09      0.12        64\n",
      "          28       0.32      0.18      0.23        65\n",
      "          29       0.71      0.94      0.81        64\n",
      "          30       0.29      0.22      0.25        64\n",
      "          31       0.52      0.73      0.61        66\n",
      "          32       0.17      0.06      0.09        63\n",
      "          33       0.90      1.00      0.95        64\n",
      "          34       0.23      0.20      0.21        66\n",
      "          35       0.10      0.06      0.08        66\n",
      "          36       0.28      0.29      0.28        65\n",
      "          37       0.00      0.00      0.00        64\n",
      "          38       0.24      0.16      0.19        63\n",
      "\n",
      "    accuracy                           0.42      2500\n",
      "   macro avg       0.37      0.42      0.39      2500\n",
      "weighted avg       0.37      0.42      0.39      2500\n",
      "\n"
     ]
    }
   ],
   "source": [
    "model = RandomForestClassifier(random_state=42)\n",
    "model.fit(X_train, y_train)\n",
    "\n",
    "# Predict\n",
    "y_pred = model.predict(X_test)\n",
    "\n",
    "# Evaluate\n",
    "print(\"Accuracy:\", accuracy_score(y_test, y_pred))\n",
    "print(\"\\nClassification Report:\\n\", classification_report(y_test, y_pred))\n",
    "\n",
    "#-----------------------------------\n",
    "# Sampel Size -> Accuracy\n",
    "#   50.000    -> Accuracy: 0.416\n",
    "#   800,000   -> Accuracy: 0.707025              [ TRY IT ]\n",
    "#-----------------------------------"
   ]
  },
  {
   "cell_type": "code",
   "execution_count": null,
   "metadata": {},
   "outputs": [],
   "source": [
    "data_ZZZ = pd.read_csv(\"../data/Kmedoid_data.csv\")"
   ]
  },
  {
   "cell_type": "code",
   "execution_count": null,
   "metadata": {},
   "outputs": [],
   "source": [
    "y_pred = model.predict(X_test)\n",
    "print(\"Accuracy:\", accuracy_score(y_test, y_pred))"
   ]
  },
  {
   "cell_type": "markdown",
   "metadata": {},
   "source": [
    "Accuracy: 0.707025"
   ]
  },
  {
   "cell_type": "markdown",
   "metadata": {},
   "source": [
    "## Fuzzy With SMOTE"
   ]
  },
  {
   "cell_type": "code",
   "execution_count": 29,
   "metadata": {},
   "outputs": [],
   "source": [
    "Data= pd.read_csv(\"../data/Fuzzy_smote_data.csv\")"
   ]
  },
  {
   "cell_type": "code",
   "execution_count": 30,
   "metadata": {},
   "outputs": [
    {
     "data": {
      "text/plain": [
       "Index(['DayOfWeek', 'PdDistrict', 'X', 'Y', 'Day', 'Month', 'Year', 'Hour',\n",
       "       'Minute', 'Block', 'fuzzy_cluster', 'Category'],\n",
       "      dtype='object')"
      ]
     },
     "execution_count": 30,
     "metadata": {},
     "output_type": "execute_result"
    }
   ],
   "source": [
    "Data.columns"
   ]
  },
  {
   "cell_type": "code",
   "execution_count": null,
   "metadata": {},
   "outputs": [],
   "source": [
    "df_sampled_2 = Data.sample(500,000, random_state=42)\n",
    "y = df_sampled_2['Category']\n",
    "X = df_sampled_2.drop(columns=['Category', 'fuzzy_cluster'])"
   ]
  },
  {
   "cell_type": "code",
   "execution_count": 33,
   "metadata": {},
   "outputs": [],
   "source": [
    "X_train, X_test, y_train, y_test = train_test_split(\n",
    "    X, y, test_size=0.05, random_state=42, stratify=y)"
   ]
  },
  {
   "cell_type": "code",
   "execution_count": 34,
   "metadata": {},
   "outputs": [
    {
     "name": "stdout",
     "output_type": "stream",
     "text": [
      "Accuracy: 0.41\n",
      "\n",
      "Classification Report:\n",
      "               precision    recall  f1-score   support\n",
      "\n",
      "           0       0.35      0.37      0.36        62\n",
      "           1       0.09      0.06      0.07        63\n",
      "           2       0.49      0.81      0.61        62\n",
      "           3       0.54      0.81      0.65        63\n",
      "           4       0.18      0.17      0.18        63\n",
      "           5       0.34      0.28      0.31        65\n",
      "           6       0.37      0.56      0.45        64\n",
      "           7       0.21      0.24      0.23        62\n",
      "           8       0.32      0.34      0.33        65\n",
      "           9       0.53      0.60      0.56        67\n",
      "          10       0.68      0.83      0.74        63\n",
      "          11       0.58      0.76      0.66        63\n",
      "          12       0.20      0.16      0.18        63\n",
      "          13       0.31      0.23      0.26        65\n",
      "          14       0.69      0.94      0.79        66\n",
      "          15       0.35      0.26      0.30        65\n",
      "          16       0.25      0.21      0.22        68\n",
      "          17       0.33      0.42      0.37        64\n",
      "          18       0.59      0.56      0.57        63\n",
      "          19       0.33      0.26      0.29        66\n",
      "          20       0.21      0.10      0.13        62\n",
      "          21       0.11      0.08      0.09        63\n",
      "          22       0.84      1.00      0.91        67\n",
      "          23       0.52      0.72      0.61        65\n",
      "          24       0.31      0.48      0.37        63\n",
      "          25       0.22      0.15      0.17        62\n",
      "          26       0.46      0.58      0.51        62\n",
      "          27       0.18      0.09      0.12        64\n",
      "          28       0.20      0.14      0.17        65\n",
      "          29       0.71      0.92      0.80        64\n",
      "          30       0.27      0.27      0.27        64\n",
      "          31       0.57      0.71      0.63        66\n",
      "          32       0.12      0.05      0.07        63\n",
      "          33       0.89      1.00      0.94        64\n",
      "          34       0.26      0.24      0.25        66\n",
      "          35       0.11      0.06      0.08        66\n",
      "          36       0.29      0.29      0.29        65\n",
      "          37       0.11      0.06      0.08        64\n",
      "          38       0.21      0.16      0.18        63\n",
      "\n",
      "    accuracy                           0.41      2500\n",
      "   macro avg       0.37      0.41      0.38      2500\n",
      "weighted avg       0.37      0.41      0.38      2500\n",
      "\n"
     ]
    }
   ],
   "source": [
    "model = RandomForestClassifier(random_state=42)\n",
    "model.fit(X_train, y_train)\n",
    "\n",
    "# Predict\n",
    "y_pred = model.predict(X_test)\n",
    "\n",
    "# Evaluate\n",
    "print(\"Accuracy:\", accuracy_score(y_test, y_pred))\n",
    "print(\"\\nClassification Report:\\n\", classification_report(y_test, y_pred))\n",
    "\n",
    "# Sampel Size -> Accuracy\n",
    "#   10,000    -> Accuracy: 0.30\n",
    "#   40,000    -> Accuracy: 0.39\n",
    "#   80,000    -> Accuracy: 0.47\n",
    "#   160,000   -> Accuracy: 0.53\n",
    "#   300,000   -> Accuracy: 0.60\n",
    "#   500,000   -> Accuracy: 0.65"
   ]
  }
 ],
 "metadata": {
  "kernelspec": {
   "display_name": "Python 3",
   "language": "python",
   "name": "python3"
  },
  "language_info": {
   "codemirror_mode": {
    "name": "ipython",
    "version": 3
   },
   "file_extension": ".py",
   "mimetype": "text/x-python",
   "name": "python",
   "nbconvert_exporter": "python",
   "pygments_lexer": "ipython3",
   "version": "3.13.2"
  }
 },
 "nbformat": 4,
 "nbformat_minor": 2
}
