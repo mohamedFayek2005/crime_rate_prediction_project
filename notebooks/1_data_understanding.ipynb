{
 "cells": [
  {
   "cell_type": "markdown",
   "id": "6bf87d3e",
   "metadata": {},
   "source": [
    "# Crime Rate Prediction Project\n",
    "## Problem Statement\n",
    "Rising crime rates in urban areas like San Francisco pose significant challenges to public safety. Predicting crime patterns can help law enforcement allocate resources effectively and reduce crime.\n",
    "## Objectives\n",
    "- Identify crime hotspots using geospatial clustering.\n",
    "- Predict crime categories based on location, time, and district.\n",
    "- Analyze temporal patterns to optimize police patrols.\n",
    "## Scope\n",
    "This project uses the SF Crime Rate dataset from Kaggle, covering crime incidents in San Francisco with features like Dates, Category, PdDistrict, and coordinates (X, Y)."
   ]
  },
  {
   "cell_type": "code",
   "execution_count": 3,
   "id": "2996a4c3",
   "metadata": {},
   "outputs": [],
   "source": [
    "import pandas as pd \n",
    "import numpy as np"
   ]
  },
  {
   "cell_type": "code",
   "execution_count": 4,
   "id": "baa063c5",
   "metadata": {},
   "outputs": [],
   "source": [
    "data = pd.read_csv(r\"../data/train.csv\")"
   ]
  },
  {
   "cell_type": "code",
   "execution_count": 5,
   "id": "e4d616e5",
   "metadata": {},
   "outputs": [
    {
     "data": {
      "text/html": [
       "<div>\n",
       "<style scoped>\n",
       "    .dataframe tbody tr th:only-of-type {\n",
       "        vertical-align: middle;\n",
       "    }\n",
       "\n",
       "    .dataframe tbody tr th {\n",
       "        vertical-align: top;\n",
       "    }\n",
       "\n",
       "    .dataframe thead th {\n",
       "        text-align: right;\n",
       "    }\n",
       "</style>\n",
       "<table border=\"1\" class=\"dataframe\">\n",
       "  <thead>\n",
       "    <tr style=\"text-align: right;\">\n",
       "      <th></th>\n",
       "      <th>Dates</th>\n",
       "      <th>Category</th>\n",
       "      <th>Descript</th>\n",
       "      <th>DayOfWeek</th>\n",
       "      <th>PdDistrict</th>\n",
       "      <th>Resolution</th>\n",
       "      <th>Address</th>\n",
       "      <th>X</th>\n",
       "      <th>Y</th>\n",
       "    </tr>\n",
       "  </thead>\n",
       "  <tbody>\n",
       "    <tr>\n",
       "      <th>0</th>\n",
       "      <td>2015-05-13 23:53:00</td>\n",
       "      <td>WARRANTS</td>\n",
       "      <td>WARRANT ARREST</td>\n",
       "      <td>Wednesday</td>\n",
       "      <td>NORTHERN</td>\n",
       "      <td>ARREST, BOOKED</td>\n",
       "      <td>OAK ST / LAGUNA ST</td>\n",
       "      <td>-122.425892</td>\n",
       "      <td>37.774599</td>\n",
       "    </tr>\n",
       "    <tr>\n",
       "      <th>1</th>\n",
       "      <td>2015-05-13 23:53:00</td>\n",
       "      <td>OTHER OFFENSES</td>\n",
       "      <td>TRAFFIC VIOLATION ARREST</td>\n",
       "      <td>Wednesday</td>\n",
       "      <td>NORTHERN</td>\n",
       "      <td>ARREST, BOOKED</td>\n",
       "      <td>OAK ST / LAGUNA ST</td>\n",
       "      <td>-122.425892</td>\n",
       "      <td>37.774599</td>\n",
       "    </tr>\n",
       "    <tr>\n",
       "      <th>2</th>\n",
       "      <td>2015-05-13 23:33:00</td>\n",
       "      <td>OTHER OFFENSES</td>\n",
       "      <td>TRAFFIC VIOLATION ARREST</td>\n",
       "      <td>Wednesday</td>\n",
       "      <td>NORTHERN</td>\n",
       "      <td>ARREST, BOOKED</td>\n",
       "      <td>VANNESS AV / GREENWICH ST</td>\n",
       "      <td>-122.424363</td>\n",
       "      <td>37.800414</td>\n",
       "    </tr>\n",
       "    <tr>\n",
       "      <th>3</th>\n",
       "      <td>2015-05-13 23:30:00</td>\n",
       "      <td>LARCENY/THEFT</td>\n",
       "      <td>GRAND THEFT FROM LOCKED AUTO</td>\n",
       "      <td>Wednesday</td>\n",
       "      <td>NORTHERN</td>\n",
       "      <td>NONE</td>\n",
       "      <td>1500 Block of LOMBARD ST</td>\n",
       "      <td>-122.426995</td>\n",
       "      <td>37.800873</td>\n",
       "    </tr>\n",
       "    <tr>\n",
       "      <th>4</th>\n",
       "      <td>2015-05-13 23:30:00</td>\n",
       "      <td>LARCENY/THEFT</td>\n",
       "      <td>GRAND THEFT FROM LOCKED AUTO</td>\n",
       "      <td>Wednesday</td>\n",
       "      <td>PARK</td>\n",
       "      <td>NONE</td>\n",
       "      <td>100 Block of BRODERICK ST</td>\n",
       "      <td>-122.438738</td>\n",
       "      <td>37.771541</td>\n",
       "    </tr>\n",
       "  </tbody>\n",
       "</table>\n",
       "</div>"
      ],
      "text/plain": [
       "                 Dates        Category                      Descript  \\\n",
       "0  2015-05-13 23:53:00        WARRANTS                WARRANT ARREST   \n",
       "1  2015-05-13 23:53:00  OTHER OFFENSES      TRAFFIC VIOLATION ARREST   \n",
       "2  2015-05-13 23:33:00  OTHER OFFENSES      TRAFFIC VIOLATION ARREST   \n",
       "3  2015-05-13 23:30:00   LARCENY/THEFT  GRAND THEFT FROM LOCKED AUTO   \n",
       "4  2015-05-13 23:30:00   LARCENY/THEFT  GRAND THEFT FROM LOCKED AUTO   \n",
       "\n",
       "   DayOfWeek PdDistrict      Resolution                    Address  \\\n",
       "0  Wednesday   NORTHERN  ARREST, BOOKED         OAK ST / LAGUNA ST   \n",
       "1  Wednesday   NORTHERN  ARREST, BOOKED         OAK ST / LAGUNA ST   \n",
       "2  Wednesday   NORTHERN  ARREST, BOOKED  VANNESS AV / GREENWICH ST   \n",
       "3  Wednesday   NORTHERN            NONE   1500 Block of LOMBARD ST   \n",
       "4  Wednesday       PARK            NONE  100 Block of BRODERICK ST   \n",
       "\n",
       "            X          Y  \n",
       "0 -122.425892  37.774599  \n",
       "1 -122.425892  37.774599  \n",
       "2 -122.424363  37.800414  \n",
       "3 -122.426995  37.800873  \n",
       "4 -122.438738  37.771541  "
      ]
     },
     "execution_count": 5,
     "metadata": {},
     "output_type": "execute_result"
    }
   ],
   "source": [
    "data.head()"
   ]
  },
  {
   "cell_type": "code",
   "execution_count": 6,
   "id": "7bca2eb1",
   "metadata": {},
   "outputs": [
    {
     "data": {
      "text/plain": [
       "Index(['Dates', 'Category', 'Descript', 'DayOfWeek', 'PdDistrict',\n",
       "       'Resolution', 'Address', 'X', 'Y'],\n",
       "      dtype='object')"
      ]
     },
     "execution_count": 6,
     "metadata": {},
     "output_type": "execute_result"
    }
   ],
   "source": [
    "data.columns"
   ]
  },
  {
   "cell_type": "markdown",
   "id": "063d1cdb",
   "metadata": {},
   "source": [
    "- `Dates`: وقت الجريمة\n",
    "- `Category`: نوع الجريمة\n",
    "- `Descript`: وصف إضافي للجريمة\n",
    "- `DayOfWeek`: اليوم ال حصلت فيه الجريمة\n",
    "- `PdDistrict`: اسم المنطقة\n",
    "- `Resolution`: نتيجة الجريمة (اتحلّت؟ اتحكم فيها؟)\n",
    "- `Address`: العنوان التفصيلي\n",
    "- `X , Y`: Latitiude, longitude"
   ]
  },
  {
   "cell_type": "markdown",
   "id": "e2147bb7",
   "metadata": {},
   "source": [
    "## Data Collection\n",
    "The dataset is sourced from the Kaggle SF Crime Rate Prediction competition. It contains 878,049 crime incidents in San Francisco with the following features:\n",
    "- Dates: Timestamp of the crime.\n",
    "- Category: Type of crime (target variable).\n",
    "- Descript: Detailed description of the crime.\n",
    "- DayOfWeek: Day of the week.\n",
    "- PdDistrict: Police district.\n",
    "- Resolution: Outcome of the crime.\n",
    "- Address: Location of the crime.\n",
    "- X, Y: Longitude and latitude coordinates."
   ]
  },
  {
   "cell_type": "code",
   "execution_count": 7,
   "id": "594e3ff5",
   "metadata": {},
   "outputs": [
    {
     "name": "stdout",
     "output_type": "stream",
     "text": [
      "<class 'pandas.core.frame.DataFrame'>\n",
      "RangeIndex: 878049 entries, 0 to 878048\n",
      "Data columns (total 9 columns):\n",
      " #   Column      Non-Null Count   Dtype  \n",
      "---  ------      --------------   -----  \n",
      " 0   Dates       878049 non-null  object \n",
      " 1   Category    878049 non-null  object \n",
      " 2   Descript    878049 non-null  object \n",
      " 3   DayOfWeek   878049 non-null  object \n",
      " 4   PdDistrict  878049 non-null  object \n",
      " 5   Resolution  878049 non-null  object \n",
      " 6   Address     878049 non-null  object \n",
      " 7   X           878049 non-null  float64\n",
      " 8   Y           878049 non-null  float64\n",
      "dtypes: float64(2), object(7)\n",
      "memory usage: 60.3+ MB\n"
     ]
    }
   ],
   "source": [
    "data.info()"
   ]
  },
  {
   "cell_type": "code",
   "execution_count": 8,
   "id": "a31b52ad",
   "metadata": {},
   "outputs": [
    {
     "data": {
      "text/plain": [
       "Dates         0\n",
       "Category      0\n",
       "Descript      0\n",
       "DayOfWeek     0\n",
       "PdDistrict    0\n",
       "Resolution    0\n",
       "Address       0\n",
       "X             0\n",
       "Y             0\n",
       "dtype: int64"
      ]
     },
     "execution_count": 8,
     "metadata": {},
     "output_type": "execute_result"
    }
   ],
   "source": [
    "data.isnull().sum()"
   ]
  },
  {
   "cell_type": "markdown",
   "id": "cc36d284",
   "metadata": {},
   "source": [
    "- #### All columns are object except X, Y \n",
    "- #### No missing values"
   ]
  },
  {
   "cell_type": "code",
   "execution_count": 9,
   "id": "04cbfdea",
   "metadata": {},
   "outputs": [
    {
     "data": {
      "text/html": [
       "<div>\n",
       "<style scoped>\n",
       "    .dataframe tbody tr th:only-of-type {\n",
       "        vertical-align: middle;\n",
       "    }\n",
       "\n",
       "    .dataframe tbody tr th {\n",
       "        vertical-align: top;\n",
       "    }\n",
       "\n",
       "    .dataframe thead th {\n",
       "        text-align: right;\n",
       "    }\n",
       "</style>\n",
       "<table border=\"1\" class=\"dataframe\">\n",
       "  <thead>\n",
       "    <tr style=\"text-align: right;\">\n",
       "      <th></th>\n",
       "      <th>X</th>\n",
       "      <th>Y</th>\n",
       "    </tr>\n",
       "  </thead>\n",
       "  <tbody>\n",
       "    <tr>\n",
       "      <th>count</th>\n",
       "      <td>878049.000000</td>\n",
       "      <td>878049.000000</td>\n",
       "    </tr>\n",
       "    <tr>\n",
       "      <th>mean</th>\n",
       "      <td>-122.422616</td>\n",
       "      <td>37.771020</td>\n",
       "    </tr>\n",
       "    <tr>\n",
       "      <th>std</th>\n",
       "      <td>0.030354</td>\n",
       "      <td>0.456893</td>\n",
       "    </tr>\n",
       "    <tr>\n",
       "      <th>min</th>\n",
       "      <td>-122.513642</td>\n",
       "      <td>37.707879</td>\n",
       "    </tr>\n",
       "    <tr>\n",
       "      <th>25%</th>\n",
       "      <td>-122.432952</td>\n",
       "      <td>37.752427</td>\n",
       "    </tr>\n",
       "    <tr>\n",
       "      <th>50%</th>\n",
       "      <td>-122.416420</td>\n",
       "      <td>37.775421</td>\n",
       "    </tr>\n",
       "    <tr>\n",
       "      <th>75%</th>\n",
       "      <td>-122.406959</td>\n",
       "      <td>37.784369</td>\n",
       "    </tr>\n",
       "    <tr>\n",
       "      <th>max</th>\n",
       "      <td>-120.500000</td>\n",
       "      <td>90.000000</td>\n",
       "    </tr>\n",
       "  </tbody>\n",
       "</table>\n",
       "</div>"
      ],
      "text/plain": [
       "                   X              Y\n",
       "count  878049.000000  878049.000000\n",
       "mean     -122.422616      37.771020\n",
       "std         0.030354       0.456893\n",
       "min      -122.513642      37.707879\n",
       "25%      -122.432952      37.752427\n",
       "50%      -122.416420      37.775421\n",
       "75%      -122.406959      37.784369\n",
       "max      -120.500000      90.000000"
      ]
     },
     "execution_count": 9,
     "metadata": {},
     "output_type": "execute_result"
    }
   ],
   "source": [
    "data.describe()"
   ]
  },
  {
   "cell_type": "code",
   "execution_count": 10,
   "id": "ddd42183",
   "metadata": {},
   "outputs": [
    {
     "data": {
      "text/plain": [
       "Category\n",
       "LARCENY/THEFT                  174900\n",
       "OTHER OFFENSES                 126182\n",
       "NON-CRIMINAL                    92304\n",
       "ASSAULT                         76876\n",
       "DRUG/NARCOTIC                   53971\n",
       "VEHICLE THEFT                   53781\n",
       "VANDALISM                       44725\n",
       "WARRANTS                        42214\n",
       "BURGLARY                        36755\n",
       "SUSPICIOUS OCC                  31414\n",
       "MISSING PERSON                  25989\n",
       "ROBBERY                         23000\n",
       "FRAUD                           16679\n",
       "FORGERY/COUNTERFEITING          10609\n",
       "SECONDARY CODES                  9985\n",
       "WEAPON LAWS                      8555\n",
       "PROSTITUTION                     7484\n",
       "TRESPASS                         7326\n",
       "STOLEN PROPERTY                  4540\n",
       "SEX OFFENSES FORCIBLE            4388\n",
       "DISORDERLY CONDUCT               4320\n",
       "DRUNKENNESS                      4280\n",
       "RECOVERED VEHICLE                3138\n",
       "KIDNAPPING                       2341\n",
       "DRIVING UNDER THE INFLUENCE      2268\n",
       "RUNAWAY                          1946\n",
       "LIQUOR LAWS                      1903\n",
       "ARSON                            1513\n",
       "LOITERING                        1225\n",
       "EMBEZZLEMENT                     1166\n",
       "SUICIDE                           508\n",
       "FAMILY OFFENSES                   491\n",
       "BAD CHECKS                        406\n",
       "BRIBERY                           289\n",
       "EXTORTION                         256\n",
       "SEX OFFENSES NON FORCIBLE         148\n",
       "GAMBLING                          146\n",
       "PORNOGRAPHY/OBSCENE MAT            22\n",
       "TREA                                6\n",
       "Name: count, dtype: int64"
      ]
     },
     "execution_count": 10,
     "metadata": {},
     "output_type": "execute_result"
    }
   ],
   "source": [
    "data[\"Category\"].value_counts().sort_values(ascending = False)"
   ]
  },
  {
   "cell_type": "markdown",
   "id": "87b4d723",
   "metadata": {},
   "source": [
    "> عدد نوع كل جريمة و نلاحظ ان اكتر 3 انواع\n",
    " - LARCENY/THEFT                  174900\n",
    " - OTHER OFFENSES                 126182\n",
    " - NON-CRIMINAL                    92304"
   ]
  },
  {
   "cell_type": "code",
   "execution_count": 11,
   "id": "90a979f4",
   "metadata": {},
   "outputs": [
    {
     "data": {
      "text/plain": [
       "DayOfWeek\n",
       "Friday       133734\n",
       "Wednesday    129211\n",
       "Saturday     126810\n",
       "Thursday     125038\n",
       "Tuesday      124965\n",
       "Monday       121584\n",
       "Sunday       116707\n",
       "Name: count, dtype: int64"
      ]
     },
     "execution_count": 11,
     "metadata": {},
     "output_type": "execute_result"
    }
   ],
   "source": [
    "data['DayOfWeek'].value_counts().sort_values(ascending = False)"
   ]
  },
  {
   "cell_type": "markdown",
   "id": "6155234b",
   "metadata": {},
   "source": [
    "أكتر الايام ال بيحصل فيها جريمة هي يوم الجمعه "
   ]
  },
  {
   "cell_type": "code",
   "execution_count": 12,
   "id": "a5ca0653",
   "metadata": {},
   "outputs": [
    {
     "data": {
      "text/plain": [
       "PdDistrict\n",
       "SOUTHERN      157182\n",
       "MISSION       119908\n",
       "NORTHERN      105296\n",
       "BAYVIEW        89431\n",
       "CENTRAL        85460\n",
       "TENDERLOIN     81809\n",
       "INGLESIDE      78845\n",
       "TARAVAL        65596\n",
       "PARK           49313\n",
       "RICHMOND       45209\n",
       "Name: count, dtype: int64"
      ]
     },
     "execution_count": 12,
     "metadata": {},
     "output_type": "execute_result"
    }
   ],
   "source": [
    "data['PdDistrict'].value_counts().sort_values(ascending = False)"
   ]
  },
  {
   "cell_type": "markdown",
   "id": "aa060d69",
   "metadata": {},
   "source": [
    "اكتر المناطق ال بيحصل فيها جريمة "
   ]
  },
  {
   "cell_type": "code",
   "execution_count": 13,
   "id": "955f060b",
   "metadata": {
    "scrolled": true
   },
   "outputs": [
    {
     "data": {
      "text/html": [
       "<div>\n",
       "<style scoped>\n",
       "    .dataframe tbody tr th:only-of-type {\n",
       "        vertical-align: middle;\n",
       "    }\n",
       "\n",
       "    .dataframe tbody tr th {\n",
       "        vertical-align: top;\n",
       "    }\n",
       "\n",
       "    .dataframe thead th {\n",
       "        text-align: right;\n",
       "    }\n",
       "</style>\n",
       "<table border=\"1\" class=\"dataframe\">\n",
       "  <thead>\n",
       "    <tr style=\"text-align: right;\">\n",
       "      <th>DayOfWeek</th>\n",
       "      <th>Friday</th>\n",
       "      <th>Monday</th>\n",
       "      <th>Saturday</th>\n",
       "      <th>Sunday</th>\n",
       "      <th>Thursday</th>\n",
       "      <th>Tuesday</th>\n",
       "      <th>Wednesday</th>\n",
       "    </tr>\n",
       "    <tr>\n",
       "      <th>PdDistrict</th>\n",
       "      <th></th>\n",
       "      <th></th>\n",
       "      <th></th>\n",
       "      <th></th>\n",
       "      <th></th>\n",
       "      <th></th>\n",
       "      <th></th>\n",
       "    </tr>\n",
       "  </thead>\n",
       "  <tbody>\n",
       "    <tr>\n",
       "      <th>BAYVIEW</th>\n",
       "      <td>13681</td>\n",
       "      <td>12649</td>\n",
       "      <td>12440</td>\n",
       "      <td>11965</td>\n",
       "      <td>12406</td>\n",
       "      <td>12816</td>\n",
       "      <td>13474</td>\n",
       "    </tr>\n",
       "    <tr>\n",
       "      <th>CENTRAL</th>\n",
       "      <td>13397</td>\n",
       "      <td>11130</td>\n",
       "      <td>14067</td>\n",
       "      <td>12197</td>\n",
       "      <td>11633</td>\n",
       "      <td>11289</td>\n",
       "      <td>11747</td>\n",
       "    </tr>\n",
       "    <tr>\n",
       "      <th>INGLESIDE</th>\n",
       "      <td>11881</td>\n",
       "      <td>11282</td>\n",
       "      <td>10845</td>\n",
       "      <td>10346</td>\n",
       "      <td>11298</td>\n",
       "      <td>11546</td>\n",
       "      <td>11647</td>\n",
       "    </tr>\n",
       "    <tr>\n",
       "      <th>MISSION</th>\n",
       "      <td>18190</td>\n",
       "      <td>16587</td>\n",
       "      <td>17213</td>\n",
       "      <td>15874</td>\n",
       "      <td>17045</td>\n",
       "      <td>17282</td>\n",
       "      <td>17717</td>\n",
       "    </tr>\n",
       "    <tr>\n",
       "      <th>NORTHERN</th>\n",
       "      <td>16331</td>\n",
       "      <td>14300</td>\n",
       "      <td>15487</td>\n",
       "      <td>14271</td>\n",
       "      <td>15082</td>\n",
       "      <td>14568</td>\n",
       "      <td>15257</td>\n",
       "    </tr>\n",
       "    <tr>\n",
       "      <th>PARK</th>\n",
       "      <td>7610</td>\n",
       "      <td>6945</td>\n",
       "      <td>6913</td>\n",
       "      <td>6646</td>\n",
       "      <td>7047</td>\n",
       "      <td>6871</td>\n",
       "      <td>7281</td>\n",
       "    </tr>\n",
       "    <tr>\n",
       "      <th>RICHMOND</th>\n",
       "      <td>6850</td>\n",
       "      <td>6352</td>\n",
       "      <td>6434</td>\n",
       "      <td>6089</td>\n",
       "      <td>6494</td>\n",
       "      <td>6477</td>\n",
       "      <td>6513</td>\n",
       "    </tr>\n",
       "    <tr>\n",
       "      <th>SOUTHERN</th>\n",
       "      <td>24458</td>\n",
       "      <td>21184</td>\n",
       "      <td>23277</td>\n",
       "      <td>20810</td>\n",
       "      <td>22527</td>\n",
       "      <td>22013</td>\n",
       "      <td>22913</td>\n",
       "    </tr>\n",
       "    <tr>\n",
       "      <th>TARAVAL</th>\n",
       "      <td>10207</td>\n",
       "      <td>9257</td>\n",
       "      <td>9024</td>\n",
       "      <td>8331</td>\n",
       "      <td>9370</td>\n",
       "      <td>9605</td>\n",
       "      <td>9802</td>\n",
       "    </tr>\n",
       "    <tr>\n",
       "      <th>TENDERLOIN</th>\n",
       "      <td>11129</td>\n",
       "      <td>11898</td>\n",
       "      <td>11110</td>\n",
       "      <td>10178</td>\n",
       "      <td>12136</td>\n",
       "      <td>12498</td>\n",
       "      <td>12860</td>\n",
       "    </tr>\n",
       "  </tbody>\n",
       "</table>\n",
       "</div>"
      ],
      "text/plain": [
       "DayOfWeek   Friday  Monday  Saturday  Sunday  Thursday  Tuesday  Wednesday\n",
       "PdDistrict                                                                \n",
       "BAYVIEW      13681   12649     12440   11965     12406    12816      13474\n",
       "CENTRAL      13397   11130     14067   12197     11633    11289      11747\n",
       "INGLESIDE    11881   11282     10845   10346     11298    11546      11647\n",
       "MISSION      18190   16587     17213   15874     17045    17282      17717\n",
       "NORTHERN     16331   14300     15487   14271     15082    14568      15257\n",
       "PARK          7610    6945      6913    6646      7047     6871       7281\n",
       "RICHMOND      6850    6352      6434    6089      6494     6477       6513\n",
       "SOUTHERN     24458   21184     23277   20810     22527    22013      22913\n",
       "TARAVAL      10207    9257      9024    8331      9370     9605       9802\n",
       "TENDERLOIN   11129   11898     11110   10178     12136    12498      12860"
      ]
     },
     "execution_count": 13,
     "metadata": {},
     "output_type": "execute_result"
    }
   ],
   "source": [
    "data[[\"PdDistrict\",\"DayOfWeek\"]].value_counts().unstack()"
   ]
  },
  {
   "cell_type": "code",
   "execution_count": 14,
   "id": "83971162",
   "metadata": {},
   "outputs": [
    {
     "data": {
      "text/plain": [
       "PdDistrict\n",
       "BAYVIEW          Friday\n",
       "CENTRAL        Saturday\n",
       "INGLESIDE        Friday\n",
       "MISSION          Friday\n",
       "NORTHERN         Friday\n",
       "PARK             Friday\n",
       "RICHMOND         Friday\n",
       "SOUTHERN         Friday\n",
       "TARAVAL          Friday\n",
       "TENDERLOIN    Wednesday\n",
       "Name: maxCrimeDay, dtype: object"
      ]
     },
     "execution_count": 14,
     "metadata": {},
     "output_type": "execute_result"
    }
   ],
   "source": [
    "district_day_counts = data[[\"PdDistrict\", \"DayOfWeek\"]].value_counts().unstack()\n",
    "# Add a column for the day with the highest crime count for each district.\n",
    "district_day_counts[\"maxCrimeDay\"] = district_day_counts.idxmax(axis = 1)\n",
    "district_day_counts[\"maxCrimeDay\"]"
   ]
  },
  {
   "cell_type": "markdown",
   "id": "07805347",
   "metadata": {},
   "source": [
    "هنلاحظ ان معظم الجرايم بتحصل يوم الجمعة"
   ]
  },
  {
   "cell_type": "code",
   "execution_count": 15,
   "id": "034ade4f",
   "metadata": {},
   "outputs": [
    {
     "data": {
      "text/plain": [
       "PdDistrict\n",
       "BAYVIEW       13681\n",
       "CENTRAL       14067\n",
       "INGLESIDE     11881\n",
       "MISSION       18190\n",
       "NORTHERN      16331\n",
       "PARK           7610\n",
       "RICHMOND       6850\n",
       "SOUTHERN      24458\n",
       "TARAVAL       10207\n",
       "TENDERLOIN    12860\n",
       "Name: maxCrimeCount, dtype: int64"
      ]
     },
     "execution_count": 15,
     "metadata": {},
     "output_type": "execute_result"
    }
   ],
   "source": [
    "district_day_counts['maxCrimeCount'] = district_day_counts.drop('maxCrimeDay', axis=1, errors='ignore').max(axis=1)\n",
    "district_day_counts[\"maxCrimeCount\"]"
   ]
  },
  {
   "cell_type": "markdown",
   "id": "da9551af",
   "metadata": {},
   "source": [
    "عدد الجرايم ف اكتر يوم بيحصل فيه جرايم"
   ]
  },
  {
   "cell_type": "code",
   "execution_count": 16,
   "id": "f7012250",
   "metadata": {},
   "outputs": [
    {
     "data": {
      "text/html": [
       "<div>\n",
       "<style scoped>\n",
       "    .dataframe tbody tr th:only-of-type {\n",
       "        vertical-align: middle;\n",
       "    }\n",
       "\n",
       "    .dataframe tbody tr th {\n",
       "        vertical-align: top;\n",
       "    }\n",
       "\n",
       "    .dataframe thead th {\n",
       "        text-align: right;\n",
       "    }\n",
       "</style>\n",
       "<table border=\"1\" class=\"dataframe\">\n",
       "  <thead>\n",
       "    <tr style=\"text-align: right;\">\n",
       "      <th>DayOfWeek</th>\n",
       "      <th>maxCrimeDay</th>\n",
       "      <th>maxCrimeCount</th>\n",
       "    </tr>\n",
       "    <tr>\n",
       "      <th>PdDistrict</th>\n",
       "      <th></th>\n",
       "      <th></th>\n",
       "    </tr>\n",
       "  </thead>\n",
       "  <tbody>\n",
       "    <tr>\n",
       "      <th>SOUTHERN</th>\n",
       "      <td>Friday</td>\n",
       "      <td>24458</td>\n",
       "    </tr>\n",
       "    <tr>\n",
       "      <th>MISSION</th>\n",
       "      <td>Friday</td>\n",
       "      <td>18190</td>\n",
       "    </tr>\n",
       "    <tr>\n",
       "      <th>NORTHERN</th>\n",
       "      <td>Friday</td>\n",
       "      <td>16331</td>\n",
       "    </tr>\n",
       "    <tr>\n",
       "      <th>CENTRAL</th>\n",
       "      <td>Saturday</td>\n",
       "      <td>14067</td>\n",
       "    </tr>\n",
       "    <tr>\n",
       "      <th>BAYVIEW</th>\n",
       "      <td>Friday</td>\n",
       "      <td>13681</td>\n",
       "    </tr>\n",
       "    <tr>\n",
       "      <th>TENDERLOIN</th>\n",
       "      <td>Wednesday</td>\n",
       "      <td>12860</td>\n",
       "    </tr>\n",
       "    <tr>\n",
       "      <th>INGLESIDE</th>\n",
       "      <td>Friday</td>\n",
       "      <td>11881</td>\n",
       "    </tr>\n",
       "    <tr>\n",
       "      <th>TARAVAL</th>\n",
       "      <td>Friday</td>\n",
       "      <td>10207</td>\n",
       "    </tr>\n",
       "    <tr>\n",
       "      <th>PARK</th>\n",
       "      <td>Friday</td>\n",
       "      <td>7610</td>\n",
       "    </tr>\n",
       "    <tr>\n",
       "      <th>RICHMOND</th>\n",
       "      <td>Friday</td>\n",
       "      <td>6850</td>\n",
       "    </tr>\n",
       "  </tbody>\n",
       "</table>\n",
       "</div>"
      ],
      "text/plain": [
       "DayOfWeek  maxCrimeDay  maxCrimeCount\n",
       "PdDistrict                           \n",
       "SOUTHERN        Friday          24458\n",
       "MISSION         Friday          18190\n",
       "NORTHERN        Friday          16331\n",
       "CENTRAL       Saturday          14067\n",
       "BAYVIEW         Friday          13681\n",
       "TENDERLOIN   Wednesday          12860\n",
       "INGLESIDE       Friday          11881\n",
       "TARAVAL         Friday          10207\n",
       "PARK            Friday           7610\n",
       "RICHMOND        Friday           6850"
      ]
     },
     "execution_count": 16,
     "metadata": {},
     "output_type": "execute_result"
    }
   ],
   "source": [
    "result = district_day_counts[['maxCrimeDay', 'maxCrimeCount']].sort_values(by='maxCrimeCount', ascending=False)\n",
    "result"
   ]
  },
  {
   "cell_type": "code",
   "execution_count": 17,
   "id": "14dc90dd",
   "metadata": {},
   "outputs": [
    {
     "data": {
      "image/png": "[encoded data removed]",
      "text/plain": [
       "<Figure size 1200x800 with 2 Axes>"
      ]
     },
     "metadata": {},
     "output_type": "display_data"
    }
   ],
   "source": [
    "import seaborn as sns\n",
    "import matplotlib.pyplot as plt\n",
    "\n",
    "plt.figure(figsize=(12, 8))\n",
    "sns.heatmap(district_day_counts.drop(['maxCrimeDay', 'maxCrimeCount'], axis=1), \n",
    "            annot=True, fmt='.0f', cmap='Blues')\n",
    "plt.title('Crime Counts by District and Day of Week')\n",
    "plt.xlabel('Day of Week')\n",
    "plt.ylabel('Police District')\n",
    "plt.show()"
   ]
  },
  {
   "cell_type": "code",
   "execution_count": 18,
   "id": "daac2423",
   "metadata": {},
   "outputs": [
    {
     "name": "stdout",
     "output_type": "stream",
     "text": [
      "\n",
      "Top Crime Categories in SOUTHERN on Friday:\n",
      "Category\n",
      "LARCENY/THEFT     6758\n",
      "OTHER OFFENSES    3121\n",
      "NON-CRIMINAL      3094\n",
      "ASSAULT           1798\n",
      "WARRANTS          1309\n",
      "Name: count, dtype: int64\n",
      "\n",
      "Top Crime Categories in MISSION on Friday:\n",
      "Category\n",
      "LARCENY/THEFT     2846\n",
      "OTHER OFFENSES    2841\n",
      "NON-CRIMINAL      1906\n",
      "ASSAULT           1672\n",
      "DRUG/NARCOTIC     1178\n",
      "Name: count, dtype: int64\n",
      "\n",
      "Top Crime Categories in NORTHERN on Friday:\n",
      "Category\n",
      "LARCENY/THEFT     4400\n",
      "OTHER OFFENSES    1883\n",
      "NON-CRIMINAL      1592\n",
      "ASSAULT           1239\n",
      "VEHICLE THEFT     1044\n",
      "Name: count, dtype: int64\n",
      "\n",
      "Top Crime Categories in CENTRAL on Saturday:\n",
      "Category\n",
      "LARCENY/THEFT     4149\n",
      "NON-CRIMINAL      1862\n",
      "OTHER OFFENSES    1561\n",
      "ASSAULT           1291\n",
      "VANDALISM          783\n",
      "Name: count, dtype: int64\n",
      "\n",
      "Top Crime Categories in BAYVIEW on Friday:\n",
      "Category\n",
      "OTHER OFFENSES    2510\n",
      "LARCENY/THEFT     1649\n",
      "ASSAULT           1427\n",
      "VEHICLE THEFT     1158\n",
      "MISSING PERSON     928\n",
      "Name: count, dtype: int64\n",
      "\n",
      "Top Crime Categories in TENDERLOIN on Wednesday:\n",
      "Category\n",
      "DRUG/NARCOTIC     3078\n",
      "OTHER OFFENSES    2266\n",
      "LARCENY/THEFT     1354\n",
      "WARRANTS          1260\n",
      "NON-CRIMINAL      1083\n",
      "Name: count, dtype: int64\n",
      "\n",
      "Top Crime Categories in INGLESIDE on Friday:\n",
      "Category\n",
      "OTHER OFFENSES    1909\n",
      "LARCENY/THEFT     1480\n",
      "VEHICLE THEFT     1387\n",
      "ASSAULT           1169\n",
      "NON-CRIMINAL       952\n",
      "Name: count, dtype: int64\n",
      "\n",
      "Top Crime Categories in TARAVAL on Friday:\n",
      "Category\n",
      "LARCENY/THEFT     1718\n",
      "OTHER OFFENSES    1371\n",
      "NON-CRIMINAL       995\n",
      "VEHICLE THEFT      929\n",
      "VANDALISM          819\n",
      "Name: count, dtype: int64\n",
      "\n",
      "Top Crime Categories in PARK on Friday:\n",
      "Category\n",
      "LARCENY/THEFT     1460\n",
      "OTHER OFFENSES     931\n",
      "NON-CRIMINAL       882\n",
      "VEHICLE THEFT      654\n",
      "BURGLARY           506\n",
      "Name: count, dtype: int64\n",
      "\n",
      "Top Crime Categories in RICHMOND on Friday:\n",
      "Category\n",
      "LARCENY/THEFT     1435\n",
      "NON-CRIMINAL       877\n",
      "OTHER OFFENSES     817\n",
      "VEHICLE THEFT      598\n",
      "VANDALISM          515\n",
      "Name: count, dtype: int64\n"
     ]
    }
   ],
   "source": [
    "for district, max_day in result['maxCrimeDay'].items():\n",
    "    crimes_on_max_day = data[(data['PdDistrict'] == district) & (data['DayOfWeek'] == max_day)]\n",
    "    print(f\"\\nTop Crime Categories in {district} on {max_day}:\")\n",
    "    print(crimes_on_max_day['Category'].value_counts().head(5))"
   ]
  },
  {
   "cell_type": "markdown",
   "id": "3dcd4267",
   "metadata": {},
   "source": [
    "اكتر خمس انواع جرايم لكل منطقه بتحصل ف اكتر يوم بيحصل فيه جريمة >_<"
   ]
  }
 ],
 "metadata": {
  "kernelspec": {
   "display_name": "Python 3",
   "language": "python",
   "name": "python3"
  },
  "language_info": {
   "codemirror_mode": {
    "name": "ipython",
    "version": 3
   },
   "file_extension": ".py",
   "mimetype": "text/x-python",
   "name": "python",
   "nbconvert_exporter": "python",
   "pygments_lexer": "ipython3",
   "version": "3.13.2"
  }
 },
 "nbformat": 4,
 "nbformat_minor": 5
}
