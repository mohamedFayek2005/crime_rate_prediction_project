{
 "cells": [
  {
   "cell_type": "code",
   "execution_count": 1,
   "metadata": {},
   "outputs": [],
   "source": [
    "from sklearn.preprocessing import StandardScaler\n",
    "from sklearn.preprocessing import LabelEncoder\n",
    "import numpy as np\n",
    "import pandas as pd"
   ]
  },
  {
   "cell_type": "code",
   "execution_count": 2,
   "metadata": {},
   "outputs": [],
   "source": [
    "df = pd.read_csv(\"../data/train.csv\")"
   ]
  },
  {
   "cell_type": "code",
   "execution_count": 3,
   "metadata": {},
   "outputs": [],
   "source": [
    "df['Dates'] = pd.to_datetime(df['Dates'])\n",
    "df['Day']= df['Dates'].dt.day\n",
    "df['DayOfWeek']= df['Dates'].dt.weekday\n",
    "df['Month']= df['Dates'].dt.month\n",
    "df['Year']= df['Dates'].dt.year\n",
    "df['Hour']= df['Dates'].dt.hour\n",
    "df['Minute']= df['Dates'].dt.minute"
   ]
  },
  {
   "cell_type": "code",
   "execution_count": 4,
   "metadata": {},
   "outputs": [],
   "source": [
    "df['Block'] = df['Address'].str.contains('block', case=False).astype(int)"
   ]
  },
  {
   "cell_type": "code",
   "execution_count": 5,
   "metadata": {},
   "outputs": [],
   "source": [
    "df.drop(columns=['Dates'], inplace=True)\n",
    "df.drop(columns=['Descript'], inplace=True)\n",
    "df.drop(columns=['Resolution'], inplace=True)\n",
    "df.drop(columns=['Address'], inplace=True)"
   ]
  },
  {
   "cell_type": "code",
   "execution_count": 6,
   "metadata": {},
   "outputs": [
    {
     "name": "stdout",
     "output_type": "stream",
     "text": [
      "         Category  DayOfWeek PdDistrict         X         Y       Day  \\\n",
      "0        WARRANTS  -0.503387   NORTHERN -0.107902  0.007832 -0.292682   \n",
      "1  OTHER OFFENSES  -0.503387   NORTHERN -0.107902  0.007832 -0.292682   \n",
      "2  OTHER OFFENSES  -0.503387   NORTHERN -0.057541  0.064335 -0.292682   \n",
      "3   LARCENY/THEFT  -0.503387   NORTHERN -0.144262  0.065338 -0.292682   \n",
      "4   LARCENY/THEFT  -0.503387       PARK -0.531112  0.001140 -0.292682   \n",
      "\n",
      "      Month     Year      Hour    Minute     Block  \n",
      "0 -0.418933  1.73165  1.463813  1.766343 -1.538350  \n",
      "1 -0.418933  1.73165  1.463813  1.766343 -1.538350  \n",
      "2 -0.418933  1.73165  1.463813  0.690779 -1.538350  \n",
      "3 -0.418933  1.73165  1.463813  0.529445  0.650047  \n",
      "4 -0.418933  1.73165  1.463813  0.529445  0.650047  \n"
     ]
    }
   ],
   "source": [
    "numeric_cols = df.select_dtypes(include=['number']).columns\n",
    "\n",
    "scaler = StandardScaler()\n",
    "\n",
    "df[numeric_cols] = scaler.fit_transform(df[numeric_cols])\n",
    "\n",
    "print(df.head())"
   ]
  },
  {
   "cell_type": "code",
   "execution_count": 7,
   "metadata": {},
   "outputs": [],
   "source": [
    "category_encoder = LabelEncoder()\n",
    "district_encoder = LabelEncoder()\n",
    "\n",
    "df['Category'] = category_encoder.fit_transform(df['Category'])\n",
    "df['PdDistrict'] = district_encoder.fit_transform(df['PdDistrict'])"
   ]
  },
  {
   "cell_type": "code",
   "execution_count": 8,
   "metadata": {},
   "outputs": [
    {
     "data": {
      "text/plain": [
       "<bound method NDFrame.head of         Category  DayOfWeek  PdDistrict         X         Y       Day  \\\n",
       "0             37  -0.503387           4 -0.107902  0.007832 -0.292682   \n",
       "1             21  -0.503387           4 -0.107902  0.007832 -0.292682   \n",
       "2             21  -0.503387           4 -0.057541  0.064335 -0.292682   \n",
       "3             16  -0.503387           4 -0.144262  0.065338 -0.292682   \n",
       "4             16  -0.503387           5 -0.531112  0.001140 -0.292682   \n",
       "...          ...        ...         ...       ...       ...       ...   \n",
       "878044        25  -1.517575           8 -1.199747 -0.124677 -1.089676   \n",
       "878045        16  -1.517575           2 -0.815292 -0.085518 -1.089676   \n",
       "878046        16  -1.517575           7  0.633404  0.020235 -1.089676   \n",
       "878047        35  -1.517575           7  1.057042  0.020983 -1.089676   \n",
       "878048        12  -1.517575           0  0.912272 -0.071808 -1.089676   \n",
       "\n",
       "           Month     Year      Hour    Minute     Block  \n",
       "0      -0.418933  1.73165  1.463813  1.766343 -1.538350  \n",
       "1      -0.418933  1.73165  1.463813  1.766343 -1.538350  \n",
       "2      -0.418933  1.73165  1.463813  0.690779 -1.538350  \n",
       "3      -0.418933  1.73165  1.463813  0.529445  0.650047  \n",
       "4      -0.418933  1.73165  1.463813  0.529445  0.650047  \n",
       "...          ...      ...       ...       ...       ...  \n",
       "878044 -1.585464 -1.57305 -2.047868 -0.277228 -1.538350  \n",
       "878045 -1.585464 -1.57305 -2.047868 -1.030122  0.650047  \n",
       "878046 -1.585464 -1.57305 -2.047868 -1.030122 -1.538350  \n",
       "878047 -1.585464 -1.57305 -2.047868 -1.030122 -1.538350  \n",
       "878048 -1.585464 -1.57305 -2.047868 -1.030122  0.650047  \n",
       "\n",
       "[878049 rows x 11 columns]>"
      ]
     },
     "execution_count": 8,
     "metadata": {},
     "output_type": "execute_result"
    }
   ],
   "source": [
    "df.head"
   ]
  },
  {
   "cell_type": "code",
   "execution_count": 9,
   "metadata": {},
   "outputs": [],
   "source": [
    "df.to_csv(\"../data/preprocessed_data.csv\", index=False)"
   ]
  }
 ],
 "metadata": {
  "kernelspec": {
   "display_name": "base",
   "language": "python",
   "name": "python3"
  },
  "language_info": {
   "codemirror_mode": {
    "name": "ipython",
    "version": 3
   },
   "file_extension": ".py",
   "mimetype": "text/x-python",
   "name": "python",
   "nbconvert_exporter": "python",
   "pygments_lexer": "ipython3",
   "version": "3.12.3"
  }
 },
 "nbformat": 4,
 "nbformat_minor": 2
}
