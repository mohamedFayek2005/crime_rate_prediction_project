{
 "cells": [
  {
   "cell_type": "markdown",
   "id": "ff52e8bc",
   "metadata": {},
   "source": [
    "## Install Libraries\n"
   ]
  },
  {
   "cell_type": "code",
   "execution_count": null,
   "id": "0551f817",
   "metadata": {},
   "outputs": [],
   "source": [
    "!pip install scikit-learn-extra # For K_medoids\n",
    "!pip install -U imbalanced-learn # For Oversampling and Undersampling"
   ]
  },
  {
   "cell_type": "markdown",
   "id": "9425bb67",
   "metadata": {},
   "source": [
    "## Import Libraries"
   ]
  },
  {
   "cell_type": "code",
   "execution_count": 1,
   "id": "9bb30340",
   "metadata": {},
   "outputs": [],
   "source": [
    "import os\n",
    "import pandas as pd\n",
    "import numpy as np\n",
    "from sklearn.preprocessing import StandardScaler\n",
    "from sklearn.preprocessing import LabelEncoder\n",
    "from sklearn_extra.cluster import KMedoids\n",
    "from sklearn.metrics import silhouette_score\n",
    "from sklearn.preprocessing import StandardScaler\n",
    "from sklearn.model_selection import train_test_split\n",
    "from sklearn.ensemble import RandomForestClassifier\n",
    "from sklearn.metrics import classification_report, accuracy_score"
   ]
  },
  {
   "cell_type": "code",
   "execution_count": 2,
   "id": "91a2181c",
   "metadata": {},
   "outputs": [],
   "source": [
    "data = pd.read_csv(\"../data/preprocessed_data.csv\")"
   ]
  },
  {
   "cell_type": "code",
   "execution_count": 3,
   "id": "5ceb0629",
   "metadata": {},
   "outputs": [
    {
     "data": {
      "text/plain": [
       "<bound method DataFrame.info of         Category  DayOfWeek  PdDistrict         X         Y       Day  \\\n",
       "0             37  -0.503387           4 -0.107902  0.007832 -0.292682   \n",
       "1             21  -0.503387           4 -0.107902  0.007832 -0.292682   \n",
       "2             21  -0.503387           4 -0.057541  0.064335 -0.292682   \n",
       "3             16  -0.503387           4 -0.144262  0.065338 -0.292682   \n",
       "4             16  -0.503387           5 -0.531112  0.001140 -0.292682   \n",
       "...          ...        ...         ...       ...       ...       ...   \n",
       "878044        25  -1.517575           8 -1.199747 -0.124677 -1.089676   \n",
       "878045        16  -1.517575           2 -0.815292 -0.085518 -1.089676   \n",
       "878046        16  -1.517575           7  0.633404  0.020235 -1.089676   \n",
       "878047        35  -1.517575           7  1.057042  0.020983 -1.089676   \n",
       "878048        12  -1.517575           0  0.912272 -0.071808 -1.089676   \n",
       "\n",
       "           Month     Year      Hour    Minute     Block  \n",
       "0      -0.418933  1.73165  1.463813  1.766343 -1.538350  \n",
       "1      -0.418933  1.73165  1.463813  1.766343 -1.538350  \n",
       "2      -0.418933  1.73165  1.463813  0.690779 -1.538350  \n",
       "3      -0.418933  1.73165  1.463813  0.529445  0.650047  \n",
       "4      -0.418933  1.73165  1.463813  0.529445  0.650047  \n",
       "...          ...      ...       ...       ...       ...  \n",
       "878044 -1.585464 -1.57305 -2.047868 -0.277228 -1.538350  \n",
       "878045 -1.585464 -1.57305 -2.047868 -1.030122  0.650047  \n",
       "878046 -1.585464 -1.57305 -2.047868 -1.030122 -1.538350  \n",
       "878047 -1.585464 -1.57305 -2.047868 -1.030122 -1.538350  \n",
       "878048 -1.585464 -1.57305 -2.047868 -1.030122  0.650047  \n",
       "\n",
       "[878049 rows x 11 columns]>"
      ]
     },
     "execution_count": 3,
     "metadata": {},
     "output_type": "execute_result"
    }
   ],
   "source": [
    "data.info"
   ]
  },
  {
   "cell_type": "markdown",
   "id": "852358c6",
   "metadata": {},
   "source": [
    "# KMeans\n",
    "#### KMeans is an unsupervised algorithm, so we cannot apply GridSearchCV directly \n",
    "#### since it requires labeled data (supervised evaluation)."
   ]
  },
  {
   "cell_type": "code",
   "execution_count": 4,
   "id": "1230e141",
   "metadata": {},
   "outputs": [],
   "source": [
    "def cluster_data(df, features=None, k_range=range(2, 11), max_samples=10000, random_state=42, verbose=True):\n",
    "    \n",
    "    \n",
    "    #data = df[features].copy()\n",
    "    \n",
    "    # Sample Of Data\n",
    "    sample_size = min(len(df), max_samples)\n",
    "    samples = df.sample(n=sample_size, random_state=random_state)  \n",
    "    \n",
    "    # Search for best K\n",
    "    scores = []\n",
    "    labels_dict = {}\n",
    "    \n",
    "    # LOOP\n",
    "    for k in k_range:\n",
    "    \n",
    "        kmedoids = KMedoids(n_clusters=k, random_state=random_state, metric='euclidean')\n",
    "        labels = kmedoids.fit_predict(samples)\n",
    "        labels_dict[k] = labels\n",
    "        medoids_dict = {k: kmedoids}\n",
    "        \n",
    "        #silhouette score\n",
    "        score = silhouette_score(samples, labels)\n",
    "        scores.append(score)\n",
    "    \n",
    "    # Find optimal k (skip k=1 if it's in the range)\n",
    "    best_k = k_range[scores.index(max(scores))]\n",
    "\n",
    "    df_clustered = df.copy()\n",
    "\n",
    "    # Add Cluster Column to Data\n",
    "    df_clustered.loc[samples.index, 'Cluster'] = labels_dict[best_k] \n",
    "    \n",
    "    # Get the best model\n",
    "    best_kmedoids = KMedoids(n_clusters=best_k, random_state=random_state).fit(samples)\n",
    "    \n",
    "    if len(df_clustered) > sample_size:\n",
    "\n",
    "        # Assign remaining points to nearest medoid center\n",
    "        remaining_indices = df_clustered.index.difference(samples.index)\n",
    "        remaining_data = df.loc[remaining_indices]\n",
    "\n",
    "        # Predict clusters for remaining points\n",
    "        remaining_labels = best_kmedoids.predict(remaining_data)\n",
    "        df_clustered.loc[remaining_indices, 'Cluster'] = remaining_labels\n",
    "    \n",
    "    return df_clustered, best_k, scores"
   ]
  },
  {
   "cell_type": "code",
   "execution_count": 5,
   "id": "5c43089a",
   "metadata": {},
   "outputs": [],
   "source": [
    "def analyze_clusters(df, cluster_col='Cluster'):\n",
    "\n",
    "    features = df.select_dtypes(include='number').columns.drop(cluster_col)\n",
    "\n",
    "    print(df[cluster_col].value_counts().sort_index())\n",
    "    return df.groupby(cluster_col)[features].mean()"
   ]
  },
  {
   "cell_type": "code",
   "execution_count": 6,
   "id": "fc816dcf",
   "metadata": {},
   "outputs": [
    {
     "name": "stdout",
     "output_type": "stream",
     "text": [
      "Cluster\n",
      "0.0    185812\n",
      "1.0    188943\n",
      "2.0    143248\n",
      "3.0    360046\n",
      "Name: count, dtype: int64\n",
      "         DayOfWeek  PdDistrict         X         Y       Day     Month  \\\n",
      "Cluster                                                                  \n",
      "0.0      -0.068696    3.318650 -0.118703 -0.012461  0.106721 -0.456932   \n",
      "1.0       0.123613    0.677501  0.611560 -0.014515  0.011297 -0.123174   \n",
      "2.0      -0.041644    3.317819 -0.127199 -0.013012 -0.141354  0.805412   \n",
      "3.0      -0.012848    7.452589 -0.209064  0.019225 -0.004766 -0.019990   \n",
      "\n",
      "             Year      Hour    Minute     Block  \n",
      "Cluster                                          \n",
      "0.0      0.419003  0.184235  0.432122 -0.083949  \n",
      "1.0     -0.155452  0.022396 -0.106612  0.021070  \n",
      "2.0     -0.299146 -0.310279 -0.449927 -0.048416  \n",
      "3.0     -0.015643  0.016615  0.011947  0.051530  \n",
      "<class 'pandas.core.frame.DataFrame'>\n",
      "RangeIndex: 878049 entries, 0 to 878048\n",
      "Data columns (total 11 columns):\n",
      " #   Column      Non-Null Count   Dtype  \n",
      "---  ------      --------------   -----  \n",
      " 0   DayOfWeek   878049 non-null  float64\n",
      " 1   PdDistrict  878049 non-null  int64  \n",
      " 2   X           878049 non-null  float64\n",
      " 3   Y           878049 non-null  float64\n",
      " 4   Day         878049 non-null  float64\n",
      " 5   Month       878049 non-null  float64\n",
      " 6   Year        878049 non-null  float64\n",
      " 7   Hour        878049 non-null  float64\n",
      " 8   Minute      878049 non-null  float64\n",
      " 9   Block       878049 non-null  float64\n",
      " 10  Cluster     878049 non-null  float64\n",
      "dtypes: float64(10), int64(1)\n",
      "memory usage: 73.7 MB\n"
     ]
    }
   ],
   "source": [
    "X = data.drop(columns=['Category'])  # Numerical Data\n",
    "Y = data['Category']\n",
    "\n",
    "df_clustered, best_k, scores = cluster_data(X)  \n",
    "\n",
    "\n",
    "# Analyze cluster characteristics\n",
    "cluster_means = analyze_clusters(df_clustered)\n",
    "print(cluster_means)\n",
    "\n",
    "df_clustered.info()\n",
    "\n",
    "#0.0    185812\n",
    "#1.0    188943\n",
    "#2.0    143248\n",
    "#3.0    360046"
   ]
  },
  {
   "cell_type": "code",
   "execution_count": 8,
   "id": "98271575",
   "metadata": {},
   "outputs": [
    {
     "data": {
      "text/plain": [
       "Index(['DayOfWeek', 'PdDistrict', 'X', 'Y', 'Day', 'Month', 'Year', 'Hour',\n",
       "       'Minute', 'Block', 'Cluster', 'Category'],\n",
       "      dtype='object')"
      ]
     },
     "execution_count": 8,
     "metadata": {},
     "output_type": "execute_result"
    }
   ],
   "source": [
    "df_clustered[\"Category\"]=data[\"Category\"]\n",
    "df_clustered.columns"
   ]
  },
  {
   "cell_type": "code",
   "execution_count": 9,
   "id": "6032b8ef",
   "metadata": {},
   "outputs": [],
   "source": [
    "df_clustered.to_csv(\"../data/Kmedoid_data.csv\", index=False)"
   ]
  }
 ],
 "metadata": {
  "kernelspec": {
   "display_name": "base",
   "language": "python",
   "name": "python3"
  },
  "language_info": {
   "codemirror_mode": {
    "name": "ipython",
    "version": 3
   },
   "file_extension": ".py",
   "mimetype": "text/x-python",
   "name": "python",
   "nbconvert_exporter": "python",
   "pygments_lexer": "ipython3",
   "version": "3.12.3"
  }
 },
 "nbformat": 4,
 "nbformat_minor": 5
}
